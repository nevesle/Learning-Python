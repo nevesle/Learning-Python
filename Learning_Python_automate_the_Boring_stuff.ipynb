{
  "nbformat": 4,
  "nbformat_minor": 0,
  "metadata": {
    "colab": {
      "provenance": [],
      "collapsed_sections": [
        "EJ3FOZjyxGNr"
      ],
      "authorship_tag": "ABX9TyM2S25MCc3r5DVQCFodK6h8",
      "include_colab_link": true
    },
    "kernelspec": {
      "name": "python3",
      "display_name": "Python 3"
    },
    "language_info": {
      "name": "python"
    }
  },
  "cells": [
    {
      "cell_type": "markdown",
      "metadata": {
        "id": "view-in-github",
        "colab_type": "text"
      },
      "source": [
        "<a href=\"https://colab.research.google.com/github/nevesle/Learning-Python/blob/main/Learning_Python_automate_the_Boring_stuff.ipynb\" target=\"_parent\"><img src=\"https://colab.research.google.com/assets/colab-badge.svg\" alt=\"Open In Colab\"/></a>"
      ]
    },
    {
      "cell_type": "markdown",
      "source": [
        "# **Read** **File**"
      ],
      "metadata": {
        "id": "5XocFQcnG-Q6"
      }
    },
    {
      "cell_type": "markdown",
      "source": [
        "# 2.9   Write code that prints Hello if 1 is stored in spam, prints Howdy if 2 is  stored in spam, and prints Greetings! if anything else is stored in spam."
      ],
      "metadata": {
        "id": "4hK4Ipt5qTqU"
      }
    },
    {
      "cell_type": "code",
      "source": [
        "spam = input()\n",
        "if spam == \"1\":\n",
        "  print(\"Hello\")\n",
        "elif spam == \"2\":\n",
        "  print(\"Howdy\")\n",
        "else:\n",
        "  print(\"Greetings!\")\n"
      ],
      "metadata": {
        "colab": {
          "base_uri": "https://localhost:8080/"
        },
        "id": "aiZyDlBhqHHQ",
        "outputId": "87fc31fe-3d40-42a5-cb23-200d297c86bd"
      },
      "execution_count": null,
      "outputs": [
        {
          "output_type": "stream",
          "name": "stdout",
          "text": [
            "1\n",
            "Hello\n"
          ]
        }
      ]
    },
    {
      "cell_type": "markdown",
      "source": [
        "# 2.13 Write a short program that prints the numbers 1 to 10 using a for loop.Then write an equivalent program that prints the numbers 1 to 10 usinga while loop"
      ],
      "metadata": {
        "id": "Re877KpGrWAR"
      }
    },
    {
      "cell_type": "code",
      "source": [
        "for i in range(0, 10, 1):\n",
        "  print(i + 1)\n",
        "a = 0 \n",
        "while a < 10:\n",
        "  print(a + 1)\n",
        "  a += 1"
      ],
      "metadata": {
        "colab": {
          "base_uri": "https://localhost:8080/"
        },
        "id": "cNkNGM9Br4zh",
        "outputId": "b016499d-b8fd-4770-b9c5-5f47a83a67df"
      },
      "execution_count": null,
      "outputs": [
        {
          "output_type": "stream",
          "name": "stdout",
          "text": [
            "1\n",
            "2\n",
            "3\n",
            "4\n",
            "5\n",
            "6\n",
            "7\n",
            "8\n",
            "9\n",
            "10\n",
            "1\n",
            "2\n",
            "3\n",
            "4\n",
            "5\n",
            "6\n",
            "7\n",
            "8\n",
            "9\n",
            "10\n"
          ]
        }
      ]
    },
    {
      "cell_type": "markdown",
      "source": [
        "\n",
        "# 3.0  The Collatz Sequence\n",
        "Write a function named collatz() that has one parameter named number. If\n",
        "number is even, then collatz() should print number // 2 and return this value.\n",
        "If number is odd, then collatz() should print and return 3 * number + 1.\n",
        "Then write a program that lets the user type in an integer and that\n",
        "keeps calling collatz() on that number until the function returns the value 1.\n",
        "(Amazingly enough, this sequence actually works for any integer—sooner or\n",
        "later, using this sequence, you’ll arrive at 1! Even mathematicians aren’t sure\n",
        "why. Your program is exploring what’s called the Collatz sequence, sometimes\n",
        "called “the simplest impossible math problem.”)\n",
        "Remember to convert the return value from input() to an integer with\n",
        "the int() function; otherwise, it will be a string value.\n",
        "Hint: An integer number is even if number % 2 == 0, and it’s odd if\n",
        "number % 2 == 1.\n",
        "The output of this program could look something like this:"
      ],
      "metadata": {
        "id": "9gkvNHYgtbuH"
      }
    },
    {
      "cell_type": "code",
      "source": [
        "try:\n",
        "  number = int(input())\n",
        "  def collatz():\n",
        "   global number  # makes changes done to number within the function global\n",
        "   if number % 2 ==  0: # checks for even number\n",
        "     print(number//2)\n",
        "     number = number//2 \n",
        "     return number\n",
        "   else: # integers are either odd or even \n",
        "     print(3*number + 1)\n",
        "     number = 3*number +1\n",
        "     return  number\n",
        "  while number != 1: \n",
        "   collatz()\n",
        "\n",
        "except ValueError: \n",
        "  print(\"Integers only\")\n",
        "  \n"
      ],
      "metadata": {
        "colab": {
          "base_uri": "https://localhost:8080/"
        },
        "id": "fCAdtmnrtjtU",
        "outputId": "e1e8ef81-4e0d-4b8c-b487-c949714c2b10"
      },
      "execution_count": null,
      "outputs": [
        {
          "output_type": "stream",
          "name": "stdout",
          "text": [
            "jj\n",
            "Integers only\n"
          ]
        }
      ]
    },
    {
      "cell_type": "markdown",
      "source": [],
      "metadata": {
        "id": "AMF66m-bzdwD"
      }
    },
    {
      "cell_type": "code",
      "source": [
        "my_list = [1,23,4]"
      ],
      "metadata": {
        "id": "tP2quF-izeRo"
      },
      "execution_count": null,
      "outputs": []
    },
    {
      "cell_type": "code",
      "source": [],
      "metadata": {
        "id": "Sk3cPJolzi6d"
      },
      "execution_count": null,
      "outputs": []
    }
  ]
}