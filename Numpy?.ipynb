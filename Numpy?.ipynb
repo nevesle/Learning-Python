{
  "nbformat": 4,
  "nbformat_minor": 0,
  "metadata": {
    "colab": {
      "provenance": [],
      "authorship_tag": "ABX9TyPqh0E8e14UPaAUwB4tJafL",
      "include_colab_link": true
    },
    "kernelspec": {
      "name": "python3",
      "display_name": "Python 3"
    },
    "language_info": {
      "name": "python"
    }
  },
  "cells": [
    {
      "cell_type": "markdown",
      "metadata": {
        "id": "view-in-github",
        "colab_type": "text"
      },
      "source": [
        "<a href=\"https://colab.research.google.com/github/nevesle/Learning-Python/blob/main/Numpy%3F.ipynb\" target=\"_parent\"><img src=\"https://colab.research.google.com/assets/colab-badge.svg\" alt=\"Open In Colab\"/></a>"
      ]
    },
    {
      "cell_type": "markdown",
      "source": [
        "1. Speed.    It is faster because it is built on C"
      ],
      "metadata": {
        "id": "NC_4E9sMPtpp"
      }
    },
    {
      "cell_type": "code",
      "execution_count": null,
      "metadata": {
        "id": "rNCqyULoOgES"
      },
      "outputs": [],
      "source": [
        "import time \n",
        "import numpy as np"
      ]
    },
    {
      "cell_type": "code",
      "source": [
        "x = np.random.random(1000000000)"
      ],
      "metadata": {
        "id": "U9wGVX84OpEg"
      },
      "execution_count": null,
      "outputs": []
    },
    {
      "cell_type": "code",
      "source": [
        "start = time.time()\n",
        "sum(x)/len(x)                # Normal Python Mean\n",
        "print(time.time()-start)"
      ],
      "metadata": {
        "colab": {
          "base_uri": "https://localhost:8080/"
        },
        "id": "miw4AZVKOz4j",
        "outputId": "0ab638e3-3866-45a5-9771-a5005918dac6"
      },
      "execution_count": null,
      "outputs": [
        {
          "output_type": "stream",
          "name": "stdout",
          "text": [
            "0.012563228607177734\n"
          ]
        }
      ]
    },
    {
      "cell_type": "code",
      "source": [
        "start = time.time()\n",
        "np.mean(x)                    # Numpy Mean\n",
        "print(time.time()-start)"
      ],
      "metadata": {
        "colab": {
          "base_uri": "https://localhost:8080/"
        },
        "id": "9d2YVqKaO0Ah",
        "outputId": "4ab464e7-c65a-4cfb-ce02-0dc7f912be05"
      },
      "execution_count": null,
      "outputs": [
        {
          "output_type": "stream",
          "name": "stdout",
          "text": [
            "0.00138092041015625\n"
          ]
        }
      ]
    },
    {
      "cell_type": "markdown",
      "source": [
        "2. N dimensional arrays. e.g Matrices "
      ],
      "metadata": {
        "id": "lc2a6h8KRPL3"
      }
    },
    {
      "cell_type": "markdown",
      "source": [
        "3. Mathematical functions"
      ],
      "metadata": {
        "id": "Pj4abY7WRWWF"
      }
    }
  ]
}