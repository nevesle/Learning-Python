{
  "nbformat": 4,
  "nbformat_minor": 0,
  "metadata": {
    "colab": {
      "provenance": [],
      "authorship_tag": "ABX9TyMMx4zYr6ckvx9Xi+GezKha",
      "include_colab_link": true
    },
    "kernelspec": {
      "name": "python3",
      "display_name": "Python 3"
    },
    "language_info": {
      "name": "python"
    }
  },
  "cells": [
    {
      "cell_type": "markdown",
      "metadata": {
        "id": "view-in-github",
        "colab_type": "text"
      },
      "source": [
        "<a href=\"https://colab.research.google.com/github/nevesle/Learning-Python/blob/main/Numpy%3F.ipynb\" target=\"_parent\"><img src=\"https://colab.research.google.com/assets/colab-badge.svg\" alt=\"Open In Colab\"/></a>"
      ]
    },
    {
      "cell_type": "markdown",
      "source": [
        "1. Speed.    It is faster because it is built on C"
      ],
      "metadata": {
        "id": "NC_4E9sMPtpp"
      }
    },
    {
      "cell_type": "code",
      "execution_count": 1,
      "metadata": {
        "id": "rNCqyULoOgES"
      },
      "outputs": [],
      "source": [
        "import time \n",
        "import numpy as np"
      ]
    },
    {
      "cell_type": "code",
      "source": [],
      "metadata": {
        "id": "yHHcBn4Jdqx7"
      },
      "execution_count": null,
      "outputs": []
    },
    {
      "cell_type": "code",
      "source": [
        "x = np.random.random(1000000000)"
      ],
      "metadata": {
        "id": "U9wGVX84OpEg"
      },
      "execution_count": null,
      "outputs": []
    },
    {
      "cell_type": "code",
      "source": [
        "start = time.time()\n",
        "sum(x)/len(x)                # Normal Python Mean\n",
        "print(time.time()-start)"
      ],
      "metadata": {
        "colab": {
          "base_uri": "https://localhost:8080/"
        },
        "id": "miw4AZVKOz4j",
        "outputId": "0ab638e3-3866-45a5-9771-a5005918dac6"
      },
      "execution_count": null,
      "outputs": [
        {
          "output_type": "stream",
          "name": "stdout",
          "text": [
            "0.012563228607177734\n"
          ]
        }
      ]
    },
    {
      "cell_type": "code",
      "source": [
        "start = time.time()\n",
        "np.mean(x)                    # Numpy Mean\n",
        "print(time.time()-start)"
      ],
      "metadata": {
        "colab": {
          "base_uri": "https://localhost:8080/"
        },
        "id": "9d2YVqKaO0Ah",
        "outputId": "4ab464e7-c65a-4cfb-ce02-0dc7f912be05"
      },
      "execution_count": null,
      "outputs": [
        {
          "output_type": "stream",
          "name": "stdout",
          "text": [
            "0.00138092041015625\n"
          ]
        }
      ]
    },
    {
      "cell_type": "markdown",
      "source": [
        "2. N dimensional arrays. e.g Matrices "
      ],
      "metadata": {
        "id": "lc2a6h8KRPL3"
      }
    },
    {
      "cell_type": "markdown",
      "source": [
        "3. Mathematical functions"
      ],
      "metadata": {
        "id": "Pj4abY7WRWWF"
      }
    },
    {
      "cell_type": "code",
      "source": [
        "#1d arrays \n",
        "py_list = [1,23,4,5,6,7,8]\n",
        "array = np.array(py_list)\n",
        "array"
      ],
      "metadata": {
        "colab": {
          "base_uri": "https://localhost:8080/"
        },
        "id": "gGEF7hfOREtq",
        "outputId": "b49e0cce-76c7-4f3e-fd3c-a6fb9d7e3ab9"
      },
      "execution_count": null,
      "outputs": [
        {
          "output_type": "execute_result",
          "data": {
            "text/plain": [
              "array([ 1, 23,  4,  5,  6,  7,  8])"
            ]
          },
          "metadata": {},
          "execution_count": 2
        }
      ]
    },
    {
      "cell_type": "code",
      "source": [
        "#2d array\n",
        "py_list2 = [[1,2,3],[4,5,6],[7,8,9]]\n",
        "np.array(py_list2)"
      ],
      "metadata": {
        "colab": {
          "base_uri": "https://localhost:8080/"
        },
        "id": "EHN7v460RXlP",
        "outputId": "83fce1b7-4c21-44da-e38f-0f3153273d63"
      },
      "execution_count": null,
      "outputs": [
        {
          "output_type": "execute_result",
          "data": {
            "text/plain": [
              "array([[1, 2, 3],\n",
              "       [4, 5, 6],\n",
              "       [7, 8, 9]])"
            ]
          },
          "metadata": {},
          "execution_count": 3
        }
      ]
    },
    {
      "cell_type": "code",
      "source": [
        "np.zeros((2,2))"
      ],
      "metadata": {
        "colab": {
          "base_uri": "https://localhost:8080/"
        },
        "id": "tZEmSIzvR40d",
        "outputId": "4559db74-ae1c-4cd9-ef3f-146e5aadb615"
      },
      "execution_count": null,
      "outputs": [
        {
          "output_type": "execute_result",
          "data": {
            "text/plain": [
              "array([[0., 0.],\n",
              "       [0., 0.]])"
            ]
          },
          "metadata": {},
          "execution_count": 5
        }
      ]
    },
    {
      "cell_type": "code",
      "source": [
        "np.random.random((3,3))"
      ],
      "metadata": {
        "colab": {
          "base_uri": "https://localhost:8080/"
        },
        "id": "O1IQMOwkSCes",
        "outputId": "dd69abeb-ad09-4741-8307-44eba7cac157"
      },
      "execution_count": null,
      "outputs": [
        {
          "output_type": "execute_result",
          "data": {
            "text/plain": [
              "array([[0.05493202, 0.49543772, 0.72486219],\n",
              "       [0.88200519, 0.8892448 , 0.80547197],\n",
              "       [0.85114312, 0.74123484, 0.39414982]])"
            ]
          },
          "metadata": {},
          "execution_count": 9
        }
      ]
    },
    {
      "cell_type": "code",
      "source": [
        "np.arange(1.51, 1.6)"
      ],
      "metadata": {
        "colab": {
          "base_uri": "https://localhost:8080/"
        },
        "id": "88fmD3U9SSJr",
        "outputId": "faf540c8-8e1a-4568-dd82-3aeef168dd9b"
      },
      "execution_count": null,
      "outputs": [
        {
          "output_type": "execute_result",
          "data": {
            "text/plain": [
              "array([1.51])"
            ]
          },
          "metadata": {},
          "execution_count": 15
        }
      ]
    },
    {
      "cell_type": "code",
      "source": [
        "#3d arrays \n",
        "array_1 = np.array([[1,2],[2,3]])\n",
        "array_2 = np.array([[1,2],[2,3]])\n",
        "array_3 = np.array([[1,2],[2,3]])\n",
        "\n",
        "array_3d = np.array([array_1, array_2,array_1])\n",
        "array_3d.shape"
      ],
      "metadata": {
        "colab": {
          "base_uri": "https://localhost:8080/"
        },
        "id": "XeW6lWlzWy-F",
        "outputId": "f2fef1dc-3fd1-4202-e689-1c1d54234bf1"
      },
      "execution_count": null,
      "outputs": [
        {
          "output_type": "execute_result",
          "data": {
            "text/plain": [
              "(3, 2, 2)"
            ]
          },
          "metadata": {},
          "execution_count": 2
        }
      ]
    },
    {
      "cell_type": "code",
      "source": [
        "array_3.flatten()"
      ],
      "metadata": {
        "colab": {
          "base_uri": "https://localhost:8080/"
        },
        "id": "E7pJAKweYRMK",
        "outputId": "2ff82ee6-eddc-41ad-df24-e35da9d9570e"
      },
      "execution_count": null,
      "outputs": [
        {
          "output_type": "execute_result",
          "data": {
            "text/plain": [
              "array([1, 2, 2, 3])"
            ]
          },
          "metadata": {},
          "execution_count": 18
        }
      ]
    },
    {
      "cell_type": "code",
      "source": [
        "array_3d.reshape((2,3,2))"
      ],
      "metadata": {
        "colab": {
          "base_uri": "https://localhost:8080/"
        },
        "id": "V-agKoO3YRWB",
        "outputId": "18bf55c3-e191-48d8-e82f-2a76af642373"
      },
      "execution_count": null,
      "outputs": [
        {
          "output_type": "execute_result",
          "data": {
            "text/plain": [
              "array([[[1, 2],\n",
              "        [2, 3],\n",
              "        [1, 2]],\n",
              "\n",
              "       [[2, 3],\n",
              "        [1, 2],\n",
              "        [2, 3]]])"
            ]
          },
          "metadata": {},
          "execution_count": 21
        }
      ]
    },
    {
      "cell_type": "code",
      "source": [
        "int_32_array = np.array([1,2,3,4,5], dtype = np.int32)\n",
        "int_64_array = np.array([1,2,3,4,5], dtype = np.int64)\n",
        "float_32_array = np.array([1,2,3,4,5], dtype = np.float32)\n",
        "float_64_array = np.array([1,2,3,4,5], dtype = np.float64)\n",
        "\n",
        "print(int_32_array.dtype)\n",
        "print(int_64_array.dtype)\n",
        "print(float_32_array.dtype)\n",
        "float_64_array.dtype"
      ],
      "metadata": {
        "colab": {
          "base_uri": "https://localhost:8080/"
        },
        "id": "iJIAL4wbconT",
        "outputId": "66e52a65-c177-4a56-e1e2-3f7254b1a96d"
      },
      "execution_count": null,
      "outputs": [
        {
          "output_type": "stream",
          "name": "stdout",
          "text": [
            "int32\n",
            "int64\n",
            "float32\n"
          ]
        },
        {
          "output_type": "execute_result",
          "data": {
            "text/plain": [
              "dtype('float64')"
            ]
          },
          "metadata": {},
          "execution_count": 23
        }
      ]
    },
    {
      "cell_type": "code",
      "source": [
        "array_1[0:2,0:1]"
      ],
      "metadata": {
        "colab": {
          "base_uri": "https://localhost:8080/"
        },
        "id": "74SoALeCd4yu",
        "outputId": "98df525d-d770-4955-ca48-f79e1b51b926"
      },
      "execution_count": null,
      "outputs": [
        {
          "output_type": "execute_result",
          "data": {
            "text/plain": [
              "array([[1],\n",
              "       [2]])"
            ]
          },
          "metadata": {},
          "execution_count": 5
        }
      ]
    },
    {
      "cell_type": "code",
      "source": [
        "# Filtering Fancy indexing returns arrays elements \n",
        "array_4 = np.arange(1, 10)\n",
        "mask = array_4 % 2 == 0   # creating boolean values for even numbers\n",
        "mask\n",
        "array_4[mask]"
      ],
      "metadata": {
        "colab": {
          "base_uri": "https://localhost:8080/"
        },
        "id": "RWIBncEPlJtc",
        "outputId": "d6328ad5-8e96-4b45-8ab8-b7679c615d72"
      },
      "execution_count": null,
      "outputs": [
        {
          "output_type": "execute_result",
          "data": {
            "text/plain": [
              "array([2, 4, 6, 8])"
            ]
          },
          "metadata": {},
          "execution_count": 9
        }
      ]
    },
    {
      "cell_type": "code",
      "source": [
        "array_5 = np.array([[1,22],[2,23],[3,24],[4,25]])\n",
        "array_5[:,0][array_5[:,1] % 2 == 0]"
      ],
      "metadata": {
        "colab": {
          "base_uri": "https://localhost:8080/"
        },
        "id": "r1VPuCIImIdp",
        "outputId": "d7c5113a-46d2-4324-b889-9a7b76861b80"
      },
      "execution_count": null,
      "outputs": [
        {
          "output_type": "execute_result",
          "data": {
            "text/plain": [
              "array([1, 3])"
            ]
          },
          "metadata": {},
          "execution_count": 13
        }
      ]
    },
    {
      "cell_type": "code",
      "source": [
        "# np.where returns indicies\n",
        "np.where([array_5[:,1] % 2 == 0])"
      ],
      "metadata": {
        "colab": {
          "base_uri": "https://localhost:8080/"
        },
        "id": "tbTI_OS7nRaX",
        "outputId": "177fd8ce-d163-4413-870b-e4cf01e7113d"
      },
      "execution_count": null,
      "outputs": [
        {
          "output_type": "execute_result",
          "data": {
            "text/plain": [
              "(array([0, 0]), array([0, 2]))"
            ]
          },
          "metadata": {},
          "execution_count": 16
        }
      ]
    },
    {
      "cell_type": "code",
      "source": [
        "array_6 = np.array([[5,26],[6,27]])"
      ],
      "metadata": {
        "id": "Zhv5K4EzxqIt"
      },
      "execution_count": null,
      "outputs": []
    },
    {
      "cell_type": "code",
      "source": [
        "array_7 =np.array([[5,26],[6,27],[5,26],[6,27]])"
      ],
      "metadata": {
        "id": "gIX0jXAm0YGn"
      },
      "execution_count": null,
      "outputs": []
    },
    {
      "cell_type": "code",
      "source": [
        "# concatenating\n",
        "np.concatenate((array_5, array_6))"
      ],
      "metadata": {
        "colab": {
          "base_uri": "https://localhost:8080/"
        },
        "id": "eAtUhaTRxsW-",
        "outputId": "ecd372ed-a454-48dc-a7c0-7d4784807529"
      },
      "execution_count": null,
      "outputs": [
        {
          "output_type": "execute_result",
          "data": {
            "text/plain": [
              "array([[ 1, 22],\n",
              "       [ 2, 23],\n",
              "       [ 3, 24],\n",
              "       [ 4, 25],\n",
              "       [ 5, 26],\n",
              "       [ 6, 27]])"
            ]
          },
          "metadata": {},
          "execution_count": 20
        }
      ]
    },
    {
      "cell_type": "code",
      "source": [
        "np.concatenate((array_5, array_7), axis = 1)"
      ],
      "metadata": {
        "colab": {
          "base_uri": "https://localhost:8080/"
        },
        "id": "O0y5p0HVxqRz",
        "outputId": "35532396-bf70-4b30-adc4-6a3e7fe3aaf5"
      },
      "execution_count": null,
      "outputs": [
        {
          "output_type": "execute_result",
          "data": {
            "text/plain": [
              "array([[ 1, 22,  5, 26],\n",
              "       [ 2, 23,  6, 27],\n",
              "       [ 3, 24,  5, 26],\n",
              "       [ 4, 25,  6, 27]])"
            ]
          },
          "metadata": {},
          "execution_count": 23
        }
      ]
    },
    {
      "cell_type": "code",
      "source": [
        "array_8 = np.random.random((3))\n",
        "array_9 = np.random.random((3,3))\n",
        "array_8.shape\n"
      ],
      "metadata": {
        "colab": {
          "base_uri": "https://localhost:8080/"
        },
        "id": "dOu8WwsT1kk1",
        "outputId": "fc4851d5-e8c2-4154-bd07-a9ec3a8888ef"
      },
      "execution_count": null,
      "outputs": [
        {
          "output_type": "execute_result",
          "data": {
            "text/plain": [
              "(3,)"
            ]
          },
          "metadata": {},
          "execution_count": 27
        }
      ]
    },
    {
      "cell_type": "code",
      "source": [
        "np.concatenate(array_8, array_9)  # error regardless of the axis"
      ],
      "metadata": {
        "id": "YxStiUbm2A3l"
      },
      "execution_count": null,
      "outputs": []
    },
    {
      "cell_type": "code",
      "source": [
        "array_10 = array_8.reshape(3,1)\n",
        "array_11 = array_8.reshape(1,3)\n",
        "array_10\n"
      ],
      "metadata": {
        "colab": {
          "base_uri": "https://localhost:8080/"
        },
        "id": "4tJv3MbJ2aLs",
        "outputId": "19361b95-4df1-4071-8709-52d6d96e92cf"
      },
      "execution_count": null,
      "outputs": [
        {
          "output_type": "execute_result",
          "data": {
            "text/plain": [
              "array([[0.48772964],\n",
              "       [0.15819464],\n",
              "       [0.6366176 ]])"
            ]
          },
          "metadata": {},
          "execution_count": 33
        }
      ]
    },
    {
      "cell_type": "code",
      "source": [
        "np.concatenate((array_9, array_10), axis =1)\n"
      ],
      "metadata": {
        "colab": {
          "base_uri": "https://localhost:8080/"
        },
        "id": "MyPdchS62r_7",
        "outputId": "c9bec5ed-8503-49cf-c2a1-5b44ef3a655a"
      },
      "execution_count": null,
      "outputs": [
        {
          "output_type": "execute_result",
          "data": {
            "text/plain": [
              "array([[0.48915175, 0.55963438, 0.43628537, 0.48772964],\n",
              "       [0.08721224, 0.7083476 , 0.868508  , 0.15819464],\n",
              "       [0.80372265, 0.59867233, 0.52054839, 0.6366176 ]])"
            ]
          },
          "metadata": {},
          "execution_count": 32
        }
      ]
    },
    {
      "cell_type": "code",
      "source": [
        "array_12 = np.concatenate((array_9, array_11), axis = 0)\n",
        "array_12"
      ],
      "metadata": {
        "colab": {
          "base_uri": "https://localhost:8080/"
        },
        "id": "DS6Uu9AP3fxZ",
        "outputId": "3ec3e97f-5333-45d8-d411-b6627fd03757"
      },
      "execution_count": null,
      "outputs": [
        {
          "output_type": "execute_result",
          "data": {
            "text/plain": [
              "array([[0.48915175, 0.55963438, 0.43628537],\n",
              "       [0.08721224, 0.7083476 , 0.868508  ],\n",
              "       [0.80372265, 0.59867233, 0.52054839],\n",
              "       [0.48772964, 0.15819464, 0.6366176 ]])"
            ]
          },
          "metadata": {},
          "execution_count": 35
        }
      ]
    },
    {
      "cell_type": "code",
      "source": [
        "# deleting takes 3 arguments (array, index, axis)\n",
        "np.delete(array_12, 3, axis =0) # removes the last row"
      ],
      "metadata": {
        "colab": {
          "base_uri": "https://localhost:8080/"
        },
        "id": "zGn0ek7A4Rxo",
        "outputId": "efeed737-1b7f-4101-88dd-2c55794b89af"
      },
      "execution_count": null,
      "outputs": [
        {
          "output_type": "execute_result",
          "data": {
            "text/plain": [
              "array([[0.48915175, 0.55963438, 0.43628537],\n",
              "       [0.08721224, 0.7083476 , 0.868508  ],\n",
              "       [0.80372265, 0.59867233, 0.52054839]])"
            ]
          },
          "metadata": {},
          "execution_count": 36
        }
      ]
    },
    {
      "cell_type": "code",
      "source": [
        "array_13 = np.array(['bimb', '23',''])"
      ],
      "metadata": {
        "id": "p0x3e-28V4cQ"
      },
      "execution_count": null,
      "outputs": []
    },
    {
      "cell_type": "code",
      "source": [
        "#vectorized len \n",
        "vectorized_len = np.vectorize(len)\n",
        "vectorized_len(array_13) > 2\n"
      ],
      "metadata": {
        "colab": {
          "base_uri": "https://localhost:8080/"
        },
        "id": "2FH5XwjIVhmF",
        "outputId": "83e0f485-f7a4-40d0-b399-7fe40a95693f"
      },
      "execution_count": null,
      "outputs": [
        {
          "output_type": "execute_result",
          "data": {
            "text/plain": [
              "array([ True, False, False])"
            ]
          },
          "metadata": {},
          "execution_count": 41
        }
      ]
    },
    {
      "cell_type": "code",
      "source": [
        "# Loading Numpy arrays\n",
        "with open(logo.npy, 'rb') as f:\n",
        "  logo_rgb_array = np.load(f)"
      ],
      "metadata": {
        "id": "TUbVXF18JF53"
      },
      "execution_count": null,
      "outputs": []
    },
    {
      "cell_type": "code",
      "source": [
        "rgb_colors = np.array([[[0,225, 0],[2, 225, 0], [0, 225, 0]], [[225,225,225], [225,225,225],[225, 225, 225]],[[0, 225, 0], [0, 225, 0], [0,225,0]]])"
      ],
      "metadata": {
        "id": "9VlqVGXjqUWS"
      },
      "execution_count": 10,
      "outputs": []
    },
    {
      "cell_type": "code",
      "source": [
        "# saving Numpy arrays \n",
        "with open('logo.npy', 'wb') as f:\n",
        "  np.save(f, rgb_colors)\n"
      ],
      "metadata": {
        "id": "QISKgQkTK_BW"
      },
      "execution_count": 9,
      "outputs": []
    },
    {
      "cell_type": "code",
      "source": [
        "import numpy as np\n",
        "import matplotlib.pyplot as plt\n"
      ],
      "metadata": {
        "id": "34HyqM70qbl5"
      },
      "execution_count": 11,
      "outputs": []
    },
    {
      "cell_type": "code",
      "source": [
        "plt.imshow(rgb_colors)\n",
        "plt.show()"
      ],
      "metadata": {
        "colab": {
          "base_uri": "https://localhost:8080/",
          "height": 435
        },
        "id": "oKGaPEQIrJNA",
        "outputId": "fcb64ae9-d0bc-493e-ecfa-8d3c062ee6ef"
      },
      "execution_count": 17,
      "outputs": [
        {
          "output_type": "display_data",
          "data": {
            "text/plain": [
              "<Figure size 640x480 with 1 Axes>"
            ],
            "image/png": "[encoded data removed]"
          },
          "metadata": {}
        }
      ]
    },
    {
      "cell_type": "code",
      "source": [
        "green1 , green2 , green3 = np.split(rgb_colors, 3, axis = 2)"
      ],
      "metadata": {
        "id": "7wDV9XS6Bwzp"
      },
      "execution_count": 13,
      "outputs": []
    },
    {
      "cell_type": "code",
      "source": [
        "plt.imshow(green3)\n",
        "plt.show"
      ],
      "metadata": {
        "colab": {
          "base_uri": "https://localhost:8080/",
          "height": 452
        },
        "id": "KfaFdgQhCjKU",
        "outputId": "42a86d37-e164-4525-c27d-a454edcb1eb6"
      },
      "execution_count": 16,
      "outputs": [
        {
          "output_type": "execute_result",
          "data": {
            "text/plain": [
              "<function matplotlib.pyplot.show(close=None, block=None)>"
            ]
          },
          "metadata": {},
          "execution_count": 16
        },
        {
          "output_type": "display_data",
          "data": {
            "text/plain": [
              "<Figure size 640x480 with 1 Axes>"
            ],
            "image/png": "[encoded data removed]"
          },
          "metadata": {}
        }
      ]
    }
  ]
}