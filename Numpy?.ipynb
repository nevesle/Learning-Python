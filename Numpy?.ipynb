{
  "nbformat": 4,
  "nbformat_minor": 0,
  "metadata": {
    "colab": {
      "provenance": [],
      "authorship_tag": "ABX9TyMvzcnvnSt+Pjfl2rRl/G4F",
      "include_colab_link": true
    },
    "kernelspec": {
      "name": "python3",
      "display_name": "Python 3"
    },
    "language_info": {
      "name": "python"
    }
  },
  "cells": [
    {
      "cell_type": "markdown",
      "metadata": {
        "id": "view-in-github",
        "colab_type": "text"
      },
      "source": [
        "<a href=\"https://colab.research.google.com/github/nevesle/Learning-Python/blob/main/Numpy%3F.ipynb\" target=\"_parent\"><img src=\"https://colab.research.google.com/assets/colab-badge.svg\" alt=\"Open In Colab\"/></a>"
      ]
    },
    {
      "cell_type": "markdown",
      "source": [
        "1. Speed.    It is faster because it is built on C"
      ],
      "metadata": {
        "id": "NC_4E9sMPtpp"
      }
    },
    {
      "cell_type": "code",
      "execution_count": 1,
      "metadata": {
        "id": "rNCqyULoOgES"
      },
      "outputs": [],
      "source": [
        "import time \n",
        "import numpy as np"
      ]
    },
    {
      "cell_type": "code",
      "source": [
        "x = np.random.random(1000000000)"
      ],
      "metadata": {
        "id": "U9wGVX84OpEg"
      },
      "execution_count": null,
      "outputs": []
    },
    {
      "cell_type": "code",
      "source": [
        "start = time.time()\n",
        "sum(x)/len(x)                # Normal Python Mean\n",
        "print(time.time()-start)"
      ],
      "metadata": {
        "colab": {
          "base_uri": "https://localhost:8080/"
        },
        "id": "miw4AZVKOz4j",
        "outputId": "0ab638e3-3866-45a5-9771-a5005918dac6"
      },
      "execution_count": null,
      "outputs": [
        {
          "output_type": "stream",
          "name": "stdout",
          "text": [
            "0.012563228607177734\n"
          ]
        }
      ]
    },
    {
      "cell_type": "code",
      "source": [
        "start = time.time()\n",
        "np.mean(x)                    # Numpy Mean\n",
        "print(time.time()-start)"
      ],
      "metadata": {
        "colab": {
          "base_uri": "https://localhost:8080/"
        },
        "id": "9d2YVqKaO0Ah",
        "outputId": "4ab464e7-c65a-4cfb-ce02-0dc7f912be05"
      },
      "execution_count": null,
      "outputs": [
        {
          "output_type": "stream",
          "name": "stdout",
          "text": [
            "0.00138092041015625\n"
          ]
        }
      ]
    },
    {
      "cell_type": "markdown",
      "source": [
        "2. N dimensional arrays. e.g Matrices "
      ],
      "metadata": {
        "id": "lc2a6h8KRPL3"
      }
    },
    {
      "cell_type": "markdown",
      "source": [
        "3. Mathematical functions"
      ],
      "metadata": {
        "id": "Pj4abY7WRWWF"
      }
    },
    {
      "cell_type": "code",
      "source": [
        "#1d arrays \n",
        "py_list = [1,23,4,5,6,7,8]\n",
        "array = np.array(py_list)\n",
        "array"
      ],
      "metadata": {
        "colab": {
          "base_uri": "https://localhost:8080/"
        },
        "id": "gGEF7hfOREtq",
        "outputId": "b49e0cce-76c7-4f3e-fd3c-a6fb9d7e3ab9"
      },
      "execution_count": 2,
      "outputs": [
        {
          "output_type": "execute_result",
          "data": {
            "text/plain": [
              "array([ 1, 23,  4,  5,  6,  7,  8])"
            ]
          },
          "metadata": {},
          "execution_count": 2
        }
      ]
    },
    {
      "cell_type": "code",
      "source": [
        "#2d array\n",
        "py_list2 = [[1,2,3],[4,5,6],[7,8,9]]\n",
        "np.array(py_list2)"
      ],
      "metadata": {
        "colab": {
          "base_uri": "https://localhost:8080/"
        },
        "id": "EHN7v460RXlP",
        "outputId": "83fce1b7-4c21-44da-e38f-0f3153273d63"
      },
      "execution_count": 3,
      "outputs": [
        {
          "output_type": "execute_result",
          "data": {
            "text/plain": [
              "array([[1, 2, 3],\n",
              "       [4, 5, 6],\n",
              "       [7, 8, 9]])"
            ]
          },
          "metadata": {},
          "execution_count": 3
        }
      ]
    },
    {
      "cell_type": "code",
      "source": [
        "np.zeros((2,2))"
      ],
      "metadata": {
        "colab": {
          "base_uri": "https://localhost:8080/"
        },
        "id": "tZEmSIzvR40d",
        "outputId": "4559db74-ae1c-4cd9-ef3f-146e5aadb615"
      },
      "execution_count": 5,
      "outputs": [
        {
          "output_type": "execute_result",
          "data": {
            "text/plain": [
              "array([[0., 0.],\n",
              "       [0., 0.]])"
            ]
          },
          "metadata": {},
          "execution_count": 5
        }
      ]
    },
    {
      "cell_type": "code",
      "source": [
        "np.random.random((3,3))"
      ],
      "metadata": {
        "colab": {
          "base_uri": "https://localhost:8080/"
        },
        "id": "O1IQMOwkSCes",
        "outputId": "dd69abeb-ad09-4741-8307-44eba7cac157"
      },
      "execution_count": 9,
      "outputs": [
        {
          "output_type": "execute_result",
          "data": {
            "text/plain": [
              "array([[0.05493202, 0.49543772, 0.72486219],\n",
              "       [0.88200519, 0.8892448 , 0.80547197],\n",
              "       [0.85114312, 0.74123484, 0.39414982]])"
            ]
          },
          "metadata": {},
          "execution_count": 9
        }
      ]
    },
    {
      "cell_type": "code",
      "source": [
        "np.arange(1.51, 1.6)"
      ],
      "metadata": {
        "colab": {
          "base_uri": "https://localhost:8080/"
        },
        "id": "88fmD3U9SSJr",
        "outputId": "faf540c8-8e1a-4568-dd82-3aeef168dd9b"
      },
      "execution_count": 15,
      "outputs": [
        {
          "output_type": "execute_result",
          "data": {
            "text/plain": [
              "array([1.51])"
            ]
          },
          "metadata": {},
          "execution_count": 15
        }
      ]
    },
    {
      "cell_type": "code",
      "source": [
        "#3d arrays \n",
        "array_1 = np.array([[1,2],[2,3]])\n",
        "array_2 = np.array([[1,2],[2,3]])\n",
        "array_3 = np.array([[1,2],[2,3]])\n",
        "\n",
        "array_3d = np.array([array_1, array_2,array_1])\n",
        "array_3d.shape"
      ],
      "metadata": {
        "colab": {
          "base_uri": "https://localhost:8080/"
        },
        "id": "XeW6lWlzWy-F",
        "outputId": "5ff7e34e-c599-4bcc-e722-1f21d778789a"
      },
      "execution_count": 17,
      "outputs": [
        {
          "output_type": "execute_result",
          "data": {
            "text/plain": [
              "(3, 2, 2)"
            ]
          },
          "metadata": {},
          "execution_count": 17
        }
      ]
    },
    {
      "cell_type": "code",
      "source": [
        "array_3.flatten()"
      ],
      "metadata": {
        "colab": {
          "base_uri": "https://localhost:8080/"
        },
        "id": "E7pJAKweYRMK",
        "outputId": "2ff82ee6-eddc-41ad-df24-e35da9d9570e"
      },
      "execution_count": 18,
      "outputs": [
        {
          "output_type": "execute_result",
          "data": {
            "text/plain": [
              "array([1, 2, 2, 3])"
            ]
          },
          "metadata": {},
          "execution_count": 18
        }
      ]
    },
    {
      "cell_type": "code",
      "source": [
        "array_3d.reshape((2,3,2))"
      ],
      "metadata": {
        "colab": {
          "base_uri": "https://localhost:8080/"
        },
        "id": "V-agKoO3YRWB",
        "outputId": "18bf55c3-e191-48d8-e82f-2a76af642373"
      },
      "execution_count": 21,
      "outputs": [
        {
          "output_type": "execute_result",
          "data": {
            "text/plain": [
              "array([[[1, 2],\n",
              "        [2, 3],\n",
              "        [1, 2]],\n",
              "\n",
              "       [[2, 3],\n",
              "        [1, 2],\n",
              "        [2, 3]]])"
            ]
          },
          "metadata": {},
          "execution_count": 21
        }
      ]
    },
    {
      "cell_type": "code",
      "source": [
        "int_32_array = np.array([1,2,3,4,5], dtype = np.int32)\n",
        "int_64_array = np.array([1,2,3,4,5], dtype = np.int64)\n",
        "float_32_array = np.array([1,2,3,4,5], dtype = np.float32)\n",
        "float_64_array = np.array([1,2,3,4,5], dtype = np.float64)\n",
        "\n",
        "print(int_32_array.dtype)\n",
        "print(int_64_array.dtype)\n",
        "print(float_32_array.dtype)\n",
        "float_64_array.dtype"
      ],
      "metadata": {
        "colab": {
          "base_uri": "https://localhost:8080/"
        },
        "id": "iJIAL4wbconT",
        "outputId": "66e52a65-c177-4a56-e1e2-3f7254b1a96d"
      },
      "execution_count": 23,
      "outputs": [
        {
          "output_type": "stream",
          "name": "stdout",
          "text": [
            "int32\n",
            "int64\n",
            "float32\n"
          ]
        },
        {
          "output_type": "execute_result",
          "data": {
            "text/plain": [
              "dtype('float64')"
            ]
          },
          "metadata": {},
          "execution_count": 23
        }
      ]
    }
  ]
}